{
 "cells": [
  {
   "cell_type": "code",
   "execution_count": 1,
   "id": "7df2a388-982a-4064-aa7e-5d822b1fa24b",
   "metadata": {},
   "outputs": [],
   "source": [
    "import pandas as pd \n",
    "from bs4 import BeautifulSoup\n",
    "import requests\n",
    "from dotenv import dotenv_values \n",
    "import time "
   ]
  },
  {
   "cell_type": "code",
   "execution_count": 2,
   "id": "0f2550b8-7814-4a3f-90b3-28320bdb7e84",
   "metadata": {},
   "outputs": [],
   "source": [
    "credential = dotenv_values(r\"Z:\\user_agent_credential.env\")"
   ]
  },
  {
   "cell_type": "code",
   "execution_count": 3,
   "id": "311ee654-487a-49a3-88c5-beeb71f04cb3",
   "metadata": {},
   "outputs": [],
   "source": [
    "url =credential['target_web']\n",
    "header =  {\"User-Agent\":credential['user_agent'], \"Accept-Language\": \"en\"}\n",
    "#before it giving me an error but once i use [\"Accept-Language\": \"en\"] this it working fine \n",
    "response_req = requests.get(url ,headers =header)"
   ]
  },
  {
   "cell_type": "code",
   "execution_count": 4,
   "id": "4ae9a6f2-1bf1-469f-99b7-61b83e8117cd",
   "metadata": {},
   "outputs": [
    {
     "data": {
      "text/plain": [
       "16"
      ]
     },
     "execution_count": 4,
     "metadata": {},
     "output_type": "execute_result"
    }
   ],
   "source": [
    "soup = BeautifulSoup(response_req.text , 'html.parser')\n",
    "find_data = soup.find_all('div', {\"class\":\"sg-col-20-of-24 s-result-item s-asin sg-col-0-of-12 sg-col-16-of-20 sg-col s-widget-spacing-small sg-col-12-of-16\"}) #find_all or findAll\n",
    "len(find_data)"
   ]
  },
  {
   "cell_type": "code",
   "execution_count": 11,
   "id": "3144325f-7ef7-414a-9c0c-dce819946f74",
   "metadata": {},
   "outputs": [
    {
     "name": "stdout",
     "output_type": "stream",
     "text": [
      "['OnePlus Nord CE 3 Lite 5G (Pastel Lime, 8GB RAM, 256GB Storage)', 'OnePlus Nord CE 2 Lite 5G (Blue Tide, 6GB RAM, 128GB Storage)', 'OnePlus Nord 4 5G (Mercurial Silver, 12GB RAM, 256GB Storage)', 'OnePlus 12R (Cool Blue, 16GB RAM, 256GB Storage)', 'OnePlus Nord CE 3 Lite 5G (Chromatic Gray, 8GB RAM, 256GB Storage)', 'OnePlus Nord CE4 Lite 5G (Mega Blue, 8GB RAM, 256GB Storage)', 'OnePlus 11R 5G (Solar Red, 8GB RAM, 128GB Storage)', 'OnePlus 12 (Flowy Emerald, 16GB RAM, 512GB Storage)', 'OnePlus Nord 4 5G (Oasis Green, 8GB RAM, 256GB Storage)', 'OnePlus 12R (Cool Blue, 8GB RAM, 256GB Storage)', 'OnePlus 12R (Iron Gray, 16GB RAM, 256GB Storage)', 'Oneplus Nord N20 SE (Jade Wave, 4GB RAM+ 128GB Storage) MediaTek Helio Processor | LCD Display | Dual Sim | 5000mAh Battery', 'OnePlus 12R (Iron Gray, 8 GB RAM, 256 GB Storage)', 'OnePlus Nord 4 5G (Obsidian Midnight, 8GB RAM, 256GB Storage)', '2&CO Ouneplus Nord N20 Se (Jade Wave, 4Gb Ram, 128Gb Storage) Mediatek Helio Processor|Lcd Display|Dual Sim|5000Mah Battery', 'OnePlus Nord 4 5G (Obsidian Midnight, 8GB RAM, 128GB Storage)']\n"
     ]
    }
   ],
   "source": [
    "phone_names = []\n",
    "for i in find_data:\n",
    "    p_name = i.find_all('span',{\"class\":\"a-size-medium a-color-base a-text-normal\"})\n",
    "    for i in p_name :\n",
    "        # print(i.text)\n",
    "        phone_names.append(i.text)\n",
    "print(phone_names)\n",
    "# print(len(phone_names))"
   ]
  },
  {
   "cell_type": "code",
   "execution_count": null,
   "id": "674f30a8-24cb-4ea5-a4d7-fdf15d8e90e9",
   "metadata": {},
   "outputs": [],
   "source": []
  }
 ],
 "metadata": {
  "kernelspec": {
   "display_name": "Python 3 (ipykernel)",
   "language": "python",
   "name": "python3"
  },
  "language_info": {
   "codemirror_mode": {
    "name": "ipython",
    "version": 3
   },
   "file_extension": ".py",
   "mimetype": "text/x-python",
   "name": "python",
   "nbconvert_exporter": "python",
   "pygments_lexer": "ipython3",
   "version": "3.12.4"
  }
 },
 "nbformat": 4,
 "nbformat_minor": 5
}
